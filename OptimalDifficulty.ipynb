{
 "cells": [
  {
   "cell_type": "markdown",
   "metadata": {},
   "source": [
    "# Optimal difficulty for learning vs for motivation\n",
    "\n",
    "Provisional analysis of FIDE data set to build difficulty-learning and difficulty-motivation curves\n",
    "\n",
    "Tom Stafford, August 2016, t.stafford@shef.ac.uk @tomstafford\n"
   ]
  },
  {
   "cell_type": "code",
   "execution_count": 2,
   "metadata": {
    "collapsed": false
   },
   "outputs": [
    {
     "name": "stdout",
     "output_type": "stream",
     "text": [
      "working directory = /home/tom/Desktop/FIDEchess\n",
      "N games in data  = 1180701\n"
     ]
    }
   ],
   "source": [
    "import pandas as pd #data munging \n",
    "import numpy as np #number functions\n",
    "import os #directory and file functions\n",
    "import pylab as plt #graphing functions\n",
    "import socket #machine id\n",
    "import seaborn as sns\n",
    "from matplotlib.font_manager import FontProperties\n",
    "\n",
    "print \"working directory = \" + os.getcwd()\n",
    "\n",
    "#----------------- load data\"\n",
    "gamedatloc='gamedat_tenpc.csv' #10% of the players in the full dataset\n",
    "\n",
    "games=pd.read_csv(gamedatloc,index_col=0)\n",
    "print \"N games in data  = \" + str(len(games)) #not all of these can be used because of missing data"
   ]
  },
  {
   "cell_type": "code",
   "execution_count": null,
   "metadata": {
    "collapsed": true
   },
   "outputs": [],
   "source": []
  }
 ],
 "metadata": {
  "kernelspec": {
   "display_name": "Python 2",
   "language": "python",
   "name": "python2"
  },
  "language_info": {
   "codemirror_mode": {
    "name": "ipython",
    "version": 2
   },
   "file_extension": ".py",
   "mimetype": "text/x-python",
   "name": "python",
   "nbconvert_exporter": "python",
   "pygments_lexer": "ipython2",
   "version": "2.7.11+"
  }
 },
 "nbformat": 4,
 "nbformat_minor": 0
}
